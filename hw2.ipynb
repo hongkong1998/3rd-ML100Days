{
 "cells": [
  {
   "cell_type": "code",
   "execution_count": null,
   "metadata": {},
   "outputs": [],
   "source": [
    "[作業目標]\n",
    "了解機器學習適合應用的領域與範疇。\n",
    "\n",
    "[作業重點]\n",
    "透過瞭解機器學習的運作方式，找出非常適用機器學習應用的領域及其原因\n",
    "\n",
    "作業\n",
    "請找出一個你認為機器學習可以發光發熱的領域並闡述原因"
   ]
  },
  {
   "cell_type": "raw",
   "metadata": {},
   "source": [
    "我覺得透過機器學習，能夠讓我們找出隱藏的資訊，例如在製程上，透過機器學習，可以知道每個步驟所需要的參數是什麼，例如:在甚麼溫度下能夠有完美的成品，或是在共享經濟，如果一個地方要設置youbike，依照當地居民的各種資訊，例如:當地居民的年收入，年齡分布範圍，能夠預測未來要放多少腳踏車在這邊。"
   ]
  }
 ],
 "metadata": {
  "kernelspec": {
   "display_name": "Python 3",
   "language": "python",
   "name": "python3"
  },
  "language_info": {
   "codemirror_mode": {
    "name": "ipython",
    "version": 3
   },
   "file_extension": ".py",
   "mimetype": "text/x-python",
   "name": "python",
   "nbconvert_exporter": "python",
   "pygments_lexer": "ipython3",
   "version": "3.7.1"
  }
 },
 "nbformat": 4,
 "nbformat_minor": 2
}
