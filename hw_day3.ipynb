{
 "cells": [
  {
   "cell_type": "code",
   "execution_count": null,
   "metadata": {},
   "outputs": [],
   "source": [
    "#專案的目標？\n",
    "要解決非完美信息博弈的難點，使麻將ai打敗人類\n",
    "#使用的技術是？\n",
    "自適應決策:一旦某一局的底牌給定，其狀態子空間會大幅縮小，Suphx 也就能進行有針對性的調整。\n",
    "先知教練:其基本思想即在自我博弈的訓練階段利用不可見的一些隱藏信息來引導模型的訓練方向，使其學習路徑更加接近完美信息意義下的最優路徑\n",
    "全盤預測:針對麻將復雜的牌面表達和計分機制，可以理解每局比賽對終盤的不同貢獻，從而將終盤的獎勵信號合理地分配回每一局比賽中，\n",
    "    以便對自我博弈的過程進行更加直接而有效的指導\n",
    "#資料來源？\n"
   ]
  }
 ],
 "metadata": {
  "kernelspec": {
   "display_name": "Python 3",
   "language": "python",
   "name": "python3"
  },
  "language_info": {
   "codemirror_mode": {
    "name": "ipython",
    "version": 3
   },
   "file_extension": ".py",
   "mimetype": "text/x-python",
   "name": "python",
   "nbconvert_exporter": "python",
   "pygments_lexer": "ipython3",
   "version": "3.7.1"
  }
 },
 "nbformat": 4,
 "nbformat_minor": 2
}
